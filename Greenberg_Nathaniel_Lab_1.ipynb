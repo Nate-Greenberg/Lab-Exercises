{
 "cells": [
  {
   "cell_type": "code",
   "execution_count": 1,
   "id": "1af63830",
   "metadata": {},
   "outputs": [
    {
     "name": "stdout",
     "output_type": "stream",
     "text": [
      "['chestnut']\n"
     ]
    }
   ],
   "source": [
    "#Exercise 1- \n",
    "list = [\"apple\", \"chestnut\", \"gargoyle\", \"pandas\", \"sheep\", \"raptor\"]\n",
    "def longestword(x):\n",
    "    word = [\"a\"]\n",
    "    for i in x:\n",
    "        if len(i) > len(word[0]):\n",
    "            word[0] = i\n",
    "    print(word)   \n",
    "longestword(list)"
   ]
  },
  {
   "cell_type": "code",
   "execution_count": 2,
   "id": "81c4c6d4",
   "metadata": {},
   "outputs": [
    {
     "name": "stdout",
     "output_type": "stream",
     "text": [
      "['HYMEN', 'PHOSPHATE', 'FILMMAKINGS', 'GIRDLING', 'TREEN', 'LYMPHANGIOGRAMS', 'ROENTGEN']\n",
      "['LYMPHANGIOGRAMS']\n"
     ]
    }
   ],
   "source": [
    "#Exercise 2- \n",
    "import random \n",
    "sowpods = \"sowpods.txt\"\n",
    "\n",
    "def word_generator(): #word generator from class slides using the sowpods txt file \n",
    "    filename = sowpods\n",
    "    f = open(filename,\"r\",encoding=\"utf8\")\n",
    "    words = f.readlines()\n",
    "    f.close()\n",
    "    \n",
    "    return random.choice(words).strip()\n",
    "\n",
    "random_words = []\n",
    "for i in range(0,7):\n",
    "    word = word_generator()\n",
    "    random_words.append(word)\n",
    "print(random_words)\n",
    "longestword(random_words)   "
   ]
  },
  {
   "cell_type": "code",
   "execution_count": 3,
   "id": "1de4f7ce",
   "metadata": {},
   "outputs": [
    {
     "name": "stdout",
     "output_type": "stream",
     "text": [
      "{'Apple': 2.5, 'Pasta': 4.99, 'Steak': 14.99, 'Eggs': 6.5, 'Milk': 3.5, 'Cheese': 2.5}\n",
      "{'Apple': 2.5, 'Pasta': 4.99, 'Steak': 14.99, 'Eggs': 6.5, 'Milk': 3.5, 'Cheese': 2.5}\n",
      "dict_keys(['Apple', 'Pasta', 'Steak', 'Eggs', 'Milk', 'Cheese'])\n",
      "dict_values([2.5, 4.99, 14.99, 6.5, 3.5, 2.5])\n",
      "{}\n",
      "{'Apple': 2.5, 'Pasta': 4.99, 'Steak': 14.99, 'Eggs': 6.5, 'Milk': 3.5}\n"
     ]
    }
   ],
   "source": [
    "#Exercise 3-\n",
    "#This is the syntax to create a dictionary\n",
    "food_dict = {\"Apple\":2.5,\n",
    "            \"Pasta\":4.99,\n",
    "            \"Steak\":14.99,\n",
    "            \"Eggs\":6.50,\n",
    "            \"Milk\":3.50,\n",
    "            \"Cheese\":2.50}\n",
    "print(food_dict)\n",
    "#We are able to create a copy of the dict\n",
    "food_two = food_dict.copy()\n",
    "print(food_two)\n",
    "#We are able to get all the keys \n",
    "print(food_dict.keys())\n",
    "#We are also able ot get all of the values \n",
    "print(food_two.values())\n",
    "#We can clear a list as well\n",
    "food_two.clear()\n",
    "print(food_two)\n",
    "#We can also delete the last pair of a dictionary using popitem\n",
    "food_dict.popitem()\n",
    "print(food_dict)"
   ]
  },
  {
   "cell_type": "code",
   "execution_count": 4,
   "id": "ec0d1fb8",
   "metadata": {},
   "outputs": [
    {
     "name": "stdout",
     "output_type": "stream",
     "text": [
      "Hi my name is Henry Smith\n",
      "You're doing great in math!\n",
      "You need to get some tutoring in science!\n",
      "You're doing great in art!\n",
      "You need to get some tutoring in history!\n",
      "66.75\n"
     ]
    }
   ],
   "source": [
    "#Question 4-\n",
    "#Brainstorming process- I want to have a student class that includes the first and last name and a dictionary of\n",
    "# the students grades. Using this information I want to provide feedback on the grades as well as the gpa.\n",
    "\n",
    "class Student:\n",
    "    def __init__(self, first_name, grade_dict, last_name):\n",
    "        self.grades = grade_dict\n",
    "        self.first_name = first_name\n",
    "        self.last_name = last_name\n",
    "        \n",
    "    def intro(self):\n",
    "        print(f\"Hi my name is {self.first_name} {self.last_name}\")\n",
    "        \n",
    "    def check_grade(self):\n",
    "        for i in self.grades:\n",
    "            if self.grades[i] < 70:\n",
    "                print(f\"You need to get some tutoring in {i}!\")\n",
    "            else:\n",
    "                print(f\"You're doing great in {i}!\")\n",
    "    \n",
    "    def gpa(self):\n",
    "        vals = self.grades.values()\n",
    "        gpa = sum(vals)/4\n",
    "        print(gpa)\n",
    "            \n",
    "Student3 = Student(\"Henry\",{\"math\":85, \"science\": 60, \"art\": 88, \"history\": 34},\"Smith\")\n",
    "Student3.intro()\n",
    "Student3.check_grade()\n",
    "Student3.gpa()"
   ]
  },
  {
   "cell_type": "code",
   "execution_count": 5,
   "id": "16c6f46b",
   "metadata": {},
   "outputs": [
    {
     "name": "stdout",
     "output_type": "stream",
     "text": [
      "Welcome to Hangman!\n",
      "Do you know the rules of Hangman?(Y/N) m\n",
      "Please try again. Do you know the rules of Hangman?(Y/N) n\n",
      "Okay these are the rules...\n",
      "Hangman is a simple word guessing game. Players try to figure out an unknown word by guessing letters. If too many letters which do not appear in the word are guessed, the player is hanged (and loses). \n",
      "Great, do you know the rules of Hangman now?(Y/N) y\n",
      "Great we can begin!\n",
      "What letter are you guessing?: a\n",
      "Wrong, you have 5 lives left\n",
      "__ __ __ __ __ __ __ __ What letter are you guessing?: e\n",
      "__ __ __ __ __ __ e __ What letter are you guessing?: i\n",
      "Wrong, you have 4 lives left\n",
      "__ __ __ __ __ __ e __ What letter are you guessing?: o\n",
      "__ o __ __ __ __ e __ What letter are you guessing?: u\n",
      "__ o __ __ u __ e __ What letter are you guessing?: c\n",
      "c o __ __ u __ e __ What letter are you guessing?: l\n",
      "Wrong, you have 3 lives left\n",
      "c o __ __ u __ e __ What letter are you guessing?: v\n",
      "Wrong, you have 2 lives left\n",
      "c o __ __ u __ e __ What letter are you guessing?: m\n",
      "c o m __ u __ e __ What letter are you guessing?: p\n",
      "c o m p u __ e __ What letter are you guessing?: t\n",
      "c o m p u t e __ What letter are you guessing?: r\n",
      "c o m p u t e r You guessed the word, you win!\n"
     ]
    }
   ],
   "source": [
    "#Question 5- (hangman)\n",
    "import random\n",
    "import time \n",
    "\n",
    "wordlist = (\"yellow\",\"rain\",\"organism\",\"meat\",\"computer\",\"game\",\"sports\",\"piano\",\"spider\",\"outside\")\n",
    "word = random.choice(wordlist)\n",
    "\n",
    "letter_dict = {}\n",
    "for letter in word: \n",
    "    letter_dict[letter] = 0\n",
    "    \n",
    "\n",
    "def game_intro(): #create an intro to the hangman game \n",
    "    print(\"Welcome to Hangman!\")\n",
    "    time.sleep(1.5)\n",
    "    user = input(\"Do you know the rules of Hangman?(Y/N) \")\n",
    "    while user not in [\"y\",\"Y\",\"n\",\"N\"]:\n",
    "        user = input(\"Please try again. Do you know the rules of Hangman?(Y/N) \")\n",
    "    if user in [\"y\",\"Y\"]:\n",
    "        print(\"Great we can begin!\")\n",
    "    else:\n",
    "        game_rules()\n",
    "        while user in [\"N\",\"n\"]:\n",
    "            user = input(\"Great, do you know the rules of Hangman now?(Y/N) \")\n",
    "            while user not in [\"y\",\"Y\",\"n\",\"N\"]:\n",
    "                user = input(\"Please try again. Do you know the rules of Hangman now?(Y/N) \")\n",
    "            if user in [\"N\",\"n\"]:\n",
    "                game_rules()\n",
    "        print(\"Great we can begin!\")  \n",
    "                \n",
    "def game_rules(): #prints out the rules of hangman\n",
    "    print(\"Okay these are the rules...\")\n",
    "    time.sleep(1.5)\n",
    "    print(\"Hangman is a simple word guessing game. \" \n",
    "          \"Players try to figure out an unknown word by guessing letters. \"\n",
    "          \"If too many letters which do not appear in the word are guessed, \"\n",
    "          \"the player is hanged (and loses). \")\n",
    "\n",
    "def wincheck():\n",
    "    global win\n",
    "    if 0 in letter_dict.values():\n",
    "        win = False\n",
    "    else:\n",
    "        win = True\n",
    "    \n",
    "def game(): \n",
    "    lives = 6\n",
    "    while lives >= 0: \n",
    "        guess = input(\"What letter are you guessing?: \")\n",
    "        if guess in letter_dict: \n",
    "            letter_dict[guess] = 1\n",
    "        else: \n",
    "            lives -= 1\n",
    "            print(\"Wrong, you have \" + str(lives) + \" lives left\")\n",
    "        for guess in word: \n",
    "            if letter_dict[guess] == 0: \n",
    "                print(\"__ \", end = \"\")\n",
    "            else:\n",
    "                print(guess + \" \", end = \"\")\n",
    "        if lives == 0: \n",
    "            print(\"you lose, the word was \" + word)\n",
    "            break\n",
    "        wincheck()\n",
    "        if win == True: \n",
    "            print(\"You guessed the word, you win!\")\n",
    "            break\n",
    "\n",
    "def play():\n",
    "    game_intro()\n",
    "    game()\n",
    "\n",
    "play()"
   ]
  }
 ],
 "metadata": {
  "kernelspec": {
   "display_name": "Python 3 (ipykernel)",
   "language": "python",
   "name": "python3"
  },
  "language_info": {
   "codemirror_mode": {
    "name": "ipython",
    "version": 3
   },
   "file_extension": ".py",
   "mimetype": "text/x-python",
   "name": "python",
   "nbconvert_exporter": "python",
   "pygments_lexer": "ipython3",
   "version": "3.9.12"
  }
 },
 "nbformat": 4,
 "nbformat_minor": 5
}
